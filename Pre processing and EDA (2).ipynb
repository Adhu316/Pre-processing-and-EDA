{
 "cells": [
  {
   "cell_type": "code",
   "execution_count": 1,
   "id": "6db0e214-0444-4dc3-a118-1379719f44da",
   "metadata": {},
   "outputs": [],
   "source": [
    "import numpy as np\n",
    "import pandas as pd\n",
    "import matplotlib.pyplot as plt"
   ]
  },
  {
   "cell_type": "code",
   "execution_count": 2,
   "id": "9473062b-36cb-4a6f-b691-720981406d55",
   "metadata": {},
   "outputs": [],
   "source": [
    "data = pd.read_csv('customer_raw_data_1500.csv')"
   ]
  },
  {
   "cell_type": "code",
   "execution_count": 3,
   "id": "4ee0547c-fc46-4dd3-9385-54792437b340",
   "metadata": {},
   "outputs": [
    {
     "data": {
      "text/html": [
       "<div>\n",
       "<style scoped>\n",
       "    .dataframe tbody tr th:only-of-type {\n",
       "        vertical-align: middle;\n",
       "    }\n",
       "\n",
       "    .dataframe tbody tr th {\n",
       "        vertical-align: top;\n",
       "    }\n",
       "\n",
       "    .dataframe thead th {\n",
       "        text-align: right;\n",
       "    }\n",
       "</style>\n",
       "<table border=\"1\" class=\"dataframe\">\n",
       "  <thead>\n",
       "    <tr style=\"text-align: right;\">\n",
       "      <th></th>\n",
       "      <th>Customer_ID</th>\n",
       "      <th>Age</th>\n",
       "      <th>Gender</th>\n",
       "      <th>City</th>\n",
       "      <th>Income</th>\n",
       "      <th>Customer_Since</th>\n",
       "      <th>Spending_Score</th>\n",
       "    </tr>\n",
       "  </thead>\n",
       "  <tbody>\n",
       "    <tr>\n",
       "      <th>0</th>\n",
       "      <td>CUST1000</td>\n",
       "      <td>68</td>\n",
       "      <td>Unknown</td>\n",
       "      <td>new york</td>\n",
       "      <td>$93,792</td>\n",
       "      <td>2022-02-16</td>\n",
       "      <td>79.0</td>\n",
       "    </tr>\n",
       "    <tr>\n",
       "      <th>1</th>\n",
       "      <td>CUST1001</td>\n",
       "      <td>43</td>\n",
       "      <td>MALE</td>\n",
       "      <td>Los Angeles</td>\n",
       "      <td>$138,681</td>\n",
       "      <td>23/09/2022</td>\n",
       "      <td>74.0</td>\n",
       "    </tr>\n",
       "    <tr>\n",
       "      <th>2</th>\n",
       "      <td>CUST1002</td>\n",
       "      <td>73</td>\n",
       "      <td>MALE</td>\n",
       "      <td>Huston</td>\n",
       "      <td>$30,858</td>\n",
       "      <td>30/07/2022</td>\n",
       "      <td>32.0</td>\n",
       "    </tr>\n",
       "    <tr>\n",
       "      <th>3</th>\n",
       "      <td>CUST1003</td>\n",
       "      <td>25</td>\n",
       "      <td>FEMALE</td>\n",
       "      <td>new york</td>\n",
       "      <td>$138,103</td>\n",
       "      <td>2022-05-02</td>\n",
       "      <td>36.0</td>\n",
       "    </tr>\n",
       "    <tr>\n",
       "      <th>4</th>\n",
       "      <td>CUST1004</td>\n",
       "      <td>72</td>\n",
       "      <td>FeMale</td>\n",
       "      <td>Unknown</td>\n",
       "      <td>$103,229</td>\n",
       "      <td>2022-08-30</td>\n",
       "      <td>83.0</td>\n",
       "    </tr>\n",
       "  </tbody>\n",
       "</table>\n",
       "</div>"
      ],
      "text/plain": [
       "  Customer_ID  Age   Gender         City    Income Customer_Since  \\\n",
       "0    CUST1000   68  Unknown     new york   $93,792     2022-02-16   \n",
       "1    CUST1001   43     MALE  Los Angeles  $138,681     23/09/2022   \n",
       "2    CUST1002   73     MALE       Huston   $30,858     30/07/2022   \n",
       "3    CUST1003   25   FEMALE     new york  $138,103     2022-05-02   \n",
       "4    CUST1004   72   FeMale      Unknown  $103,229     2022-08-30   \n",
       "\n",
       "   Spending_Score  \n",
       "0            79.0  \n",
       "1            74.0  \n",
       "2            32.0  \n",
       "3            36.0  \n",
       "4            83.0  "
      ]
     },
     "execution_count": 3,
     "metadata": {},
     "output_type": "execute_result"
    }
   ],
   "source": [
    "data.head()"
   ]
  },
  {
   "cell_type": "code",
   "execution_count": 4,
   "id": "5eb7eeaf-53d7-4dd6-baf1-f56ea77f3afa",
   "metadata": {},
   "outputs": [
    {
     "data": {
      "text/plain": [
       "(1500, 7)"
      ]
     },
     "execution_count": 4,
     "metadata": {},
     "output_type": "execute_result"
    }
   ],
   "source": [
    "data.shape"
   ]
  },
  {
   "cell_type": "markdown",
   "id": "6ece8703-c1c1-41b3-9296-045c6dc1f8c9",
   "metadata": {},
   "source": [
    "### Duplicates are removed"
   ]
  },
  {
   "cell_type": "code",
   "execution_count": 5,
   "id": "ebe65659-2064-47c9-a3a7-becd0fabe7e8",
   "metadata": {},
   "outputs": [
    {
     "data": {
      "text/plain": [
       "np.int64(0)"
      ]
     },
     "execution_count": 5,
     "metadata": {},
     "output_type": "execute_result"
    }
   ],
   "source": [
    "duplicated_rows = data.duplicated().sum()\n",
    "duplicated_rows"
   ]
  },
  {
   "cell_type": "code",
   "execution_count": 6,
   "id": "130fd846-cb4c-40ab-88ee-05158f1b48c7",
   "metadata": {},
   "outputs": [
    {
     "data": {
      "text/plain": [
       "np.int64(0)"
      ]
     },
     "execution_count": 6,
     "metadata": {},
     "output_type": "execute_result"
    }
   ],
   "source": [
    "duplicated_columns = data.columns.duplicated().sum()\n",
    "duplicated_columns"
   ]
  },
  {
   "cell_type": "markdown",
   "id": "7626cc75-2b27-4a46-94ff-8f003fdd7939",
   "metadata": {},
   "source": [
    "### Identify and handle missing values"
   ]
  },
  {
   "cell_type": "code",
   "execution_count": 7,
   "id": "c89956f9-519e-4bd7-8ab2-5b11fbb73664",
   "metadata": {},
   "outputs": [
    {
     "name": "stdout",
     "output_type": "stream",
     "text": [
      "<class 'pandas.core.frame.DataFrame'>\n",
      "RangeIndex: 1500 entries, 0 to 1499\n",
      "Data columns (total 7 columns):\n",
      " #   Column          Non-Null Count  Dtype  \n",
      "---  ------          --------------  -----  \n",
      " 0   Customer_ID     1500 non-null   object \n",
      " 1   Age             1500 non-null   int64  \n",
      " 2   Gender          1500 non-null   object \n",
      " 3   City            1500 non-null   object \n",
      " 4   Income          1370 non-null   object \n",
      " 5   Customer_Since  1500 non-null   object \n",
      " 6   Spending_Score  1482 non-null   float64\n",
      "dtypes: float64(1), int64(1), object(5)\n",
      "memory usage: 82.2+ KB\n"
     ]
    }
   ],
   "source": [
    "data.info()"
   ]
  },
  {
   "cell_type": "code",
   "execution_count": 8,
   "id": "34be0a81-346e-47f2-b76a-db7b0e5ff4a6",
   "metadata": {},
   "outputs": [
    {
     "data": {
      "text/plain": [
       "Customer_ID         0\n",
       "Age                 0\n",
       "Gender              0\n",
       "City                0\n",
       "Income            130\n",
       "Customer_Since      0\n",
       "Spending_Score     18\n",
       "dtype: int64"
      ]
     },
     "execution_count": 8,
     "metadata": {},
     "output_type": "execute_result"
    }
   ],
   "source": [
    "data.isnull().sum()"
   ]
  },
  {
   "cell_type": "markdown",
   "id": "80bcdb8e-08a4-460e-ba36-036fd2caa676",
   "metadata": {},
   "source": [
    "#### If a column has few missing values we can impute (fill) them \n",
    "#### Mean or median (for numerical values)\n",
    "\n",
    "#### If a column has too many missing values, we may consider dropping it."
   ]
  },
  {
   "cell_type": "markdown",
   "id": "bd40237b-9e5c-4ac5-a8b0-611c12b88903",
   "metadata": {},
   "source": [
    "### Fix inconsistent data formats"
   ]
  },
  {
   "cell_type": "code",
   "execution_count": 9,
   "id": "14f4220e-9504-4135-943f-ed735ec38726",
   "metadata": {},
   "outputs": [],
   "source": [
    "data['Income'] = data['Income'].str.replace('$', '')\n",
    "data['Income'] = data['Income'].str.replace(',','')"
   ]
  },
  {
   "cell_type": "code",
   "execution_count": 10,
   "id": "1b0c3857-2974-4a45-a95c-a4a5d392bea1",
   "metadata": {},
   "outputs": [
    {
     "data": {
      "text/html": [
       "<div>\n",
       "<style scoped>\n",
       "    .dataframe tbody tr th:only-of-type {\n",
       "        vertical-align: middle;\n",
       "    }\n",
       "\n",
       "    .dataframe tbody tr th {\n",
       "        vertical-align: top;\n",
       "    }\n",
       "\n",
       "    .dataframe thead th {\n",
       "        text-align: right;\n",
       "    }\n",
       "</style>\n",
       "<table border=\"1\" class=\"dataframe\">\n",
       "  <thead>\n",
       "    <tr style=\"text-align: right;\">\n",
       "      <th></th>\n",
       "      <th>Customer_ID</th>\n",
       "      <th>Age</th>\n",
       "      <th>Gender</th>\n",
       "      <th>City</th>\n",
       "      <th>Income</th>\n",
       "      <th>Customer_Since</th>\n",
       "      <th>Spending_Score</th>\n",
       "    </tr>\n",
       "  </thead>\n",
       "  <tbody>\n",
       "    <tr>\n",
       "      <th>0</th>\n",
       "      <td>CUST1000</td>\n",
       "      <td>68</td>\n",
       "      <td>Unknown</td>\n",
       "      <td>new york</td>\n",
       "      <td>93792</td>\n",
       "      <td>2022-02-16</td>\n",
       "      <td>79.0</td>\n",
       "    </tr>\n",
       "    <tr>\n",
       "      <th>1</th>\n",
       "      <td>CUST1001</td>\n",
       "      <td>43</td>\n",
       "      <td>MALE</td>\n",
       "      <td>Los Angeles</td>\n",
       "      <td>138681</td>\n",
       "      <td>23/09/2022</td>\n",
       "      <td>74.0</td>\n",
       "    </tr>\n",
       "    <tr>\n",
       "      <th>2</th>\n",
       "      <td>CUST1002</td>\n",
       "      <td>73</td>\n",
       "      <td>MALE</td>\n",
       "      <td>Huston</td>\n",
       "      <td>30858</td>\n",
       "      <td>30/07/2022</td>\n",
       "      <td>32.0</td>\n",
       "    </tr>\n",
       "    <tr>\n",
       "      <th>3</th>\n",
       "      <td>CUST1003</td>\n",
       "      <td>25</td>\n",
       "      <td>FEMALE</td>\n",
       "      <td>new york</td>\n",
       "      <td>138103</td>\n",
       "      <td>2022-05-02</td>\n",
       "      <td>36.0</td>\n",
       "    </tr>\n",
       "    <tr>\n",
       "      <th>4</th>\n",
       "      <td>CUST1004</td>\n",
       "      <td>72</td>\n",
       "      <td>FeMale</td>\n",
       "      <td>Unknown</td>\n",
       "      <td>103229</td>\n",
       "      <td>2022-08-30</td>\n",
       "      <td>83.0</td>\n",
       "    </tr>\n",
       "  </tbody>\n",
       "</table>\n",
       "</div>"
      ],
      "text/plain": [
       "  Customer_ID  Age   Gender         City  Income Customer_Since  \\\n",
       "0    CUST1000   68  Unknown     new york   93792     2022-02-16   \n",
       "1    CUST1001   43     MALE  Los Angeles  138681     23/09/2022   \n",
       "2    CUST1002   73     MALE       Huston   30858     30/07/2022   \n",
       "3    CUST1003   25   FEMALE     new york  138103     2022-05-02   \n",
       "4    CUST1004   72   FeMale      Unknown  103229     2022-08-30   \n",
       "\n",
       "   Spending_Score  \n",
       "0            79.0  \n",
       "1            74.0  \n",
       "2            32.0  \n",
       "3            36.0  \n",
       "4            83.0  "
      ]
     },
     "execution_count": 10,
     "metadata": {},
     "output_type": "execute_result"
    }
   ],
   "source": [
    "data.head()"
   ]
  },
  {
   "cell_type": "code",
   "execution_count": 11,
   "id": "f9dba589-9a27-440e-b4be-824e6fbf8a58",
   "metadata": {},
   "outputs": [],
   "source": [
    "data['Income'] = pd.to_numeric(data['Income'])"
   ]
  },
  {
   "cell_type": "code",
   "execution_count": 12,
   "id": "97ae231f-5507-4c10-b8ac-add0ce65c683",
   "metadata": {},
   "outputs": [],
   "source": [
    "data['Income'] = data['Income'].fillna(data['Income'].median())\n",
    "data['Spending_Score'] = data['Spending_Score'].fillna(data['Spending_Score'].median())"
   ]
  },
  {
   "cell_type": "code",
   "execution_count": 13,
   "id": "d68dfc1c-c4c6-4af7-a7a4-25cc843fa072",
   "metadata": {},
   "outputs": [
    {
     "data": {
      "text/plain": [
       "Customer_ID       0\n",
       "Age               0\n",
       "Gender            0\n",
       "City              0\n",
       "Income            0\n",
       "Customer_Since    0\n",
       "Spending_Score    0\n",
       "dtype: int64"
      ]
     },
     "execution_count": 13,
     "metadata": {},
     "output_type": "execute_result"
    }
   ],
   "source": [
    "data.isnull().sum()"
   ]
  },
  {
   "cell_type": "code",
   "execution_count": 14,
   "id": "7b31eec6-0346-4607-a4eb-3598402de256",
   "metadata": {},
   "outputs": [],
   "source": [
    "data['Customer_Since'] = pd.to_datetime(data['Customer_Since'], format = 'mixed')"
   ]
  },
  {
   "cell_type": "markdown",
   "id": "b6a637d6-67c6-4e52-aacf-6f0c2bedc8e4",
   "metadata": {},
   "source": [
    "### Handle categorical data"
   ]
  },
  {
   "cell_type": "code",
   "execution_count": 15,
   "id": "52d10262-492e-4d4c-8951-6997d026e6a9",
   "metadata": {},
   "outputs": [],
   "source": [
    "data['Gender'] = data['Gender'].str.title()"
   ]
  },
  {
   "cell_type": "code",
   "execution_count": 16,
   "id": "038228ab-5587-44cd-aeec-1bf9b4f9cf3a",
   "metadata": {},
   "outputs": [],
   "source": [
    "data['City'] = data['City'].str.title()"
   ]
  },
  {
   "cell_type": "code",
   "execution_count": 17,
   "id": "a7554a09-8c37-4731-9174-9ecbd51957c6",
   "metadata": {},
   "outputs": [],
   "source": [
    "data['City'] = data['City'].replace('Huston', 'Houston')"
   ]
  },
  {
   "cell_type": "code",
   "execution_count": 18,
   "id": "5f7bcc6a-d9b5-4916-b38d-66b9344f5ddc",
   "metadata": {},
   "outputs": [
    {
     "data": {
      "text/html": [
       "<div>\n",
       "<style scoped>\n",
       "    .dataframe tbody tr th:only-of-type {\n",
       "        vertical-align: middle;\n",
       "    }\n",
       "\n",
       "    .dataframe tbody tr th {\n",
       "        vertical-align: top;\n",
       "    }\n",
       "\n",
       "    .dataframe thead th {\n",
       "        text-align: right;\n",
       "    }\n",
       "</style>\n",
       "<table border=\"1\" class=\"dataframe\">\n",
       "  <thead>\n",
       "    <tr style=\"text-align: right;\">\n",
       "      <th></th>\n",
       "      <th>Customer_ID</th>\n",
       "      <th>Age</th>\n",
       "      <th>Gender</th>\n",
       "      <th>City</th>\n",
       "      <th>Income</th>\n",
       "      <th>Customer_Since</th>\n",
       "      <th>Spending_Score</th>\n",
       "    </tr>\n",
       "  </thead>\n",
       "  <tbody>\n",
       "    <tr>\n",
       "      <th>0</th>\n",
       "      <td>CUST1000</td>\n",
       "      <td>68</td>\n",
       "      <td>Unknown</td>\n",
       "      <td>New York</td>\n",
       "      <td>93792.0</td>\n",
       "      <td>2022-02-16</td>\n",
       "      <td>79.0</td>\n",
       "    </tr>\n",
       "    <tr>\n",
       "      <th>1</th>\n",
       "      <td>CUST1001</td>\n",
       "      <td>43</td>\n",
       "      <td>Male</td>\n",
       "      <td>Los Angeles</td>\n",
       "      <td>138681.0</td>\n",
       "      <td>2022-09-23</td>\n",
       "      <td>74.0</td>\n",
       "    </tr>\n",
       "    <tr>\n",
       "      <th>2</th>\n",
       "      <td>CUST1002</td>\n",
       "      <td>73</td>\n",
       "      <td>Male</td>\n",
       "      <td>Houston</td>\n",
       "      <td>30858.0</td>\n",
       "      <td>2022-07-30</td>\n",
       "      <td>32.0</td>\n",
       "    </tr>\n",
       "    <tr>\n",
       "      <th>3</th>\n",
       "      <td>CUST1003</td>\n",
       "      <td>25</td>\n",
       "      <td>Female</td>\n",
       "      <td>New York</td>\n",
       "      <td>138103.0</td>\n",
       "      <td>2022-05-02</td>\n",
       "      <td>36.0</td>\n",
       "    </tr>\n",
       "    <tr>\n",
       "      <th>4</th>\n",
       "      <td>CUST1004</td>\n",
       "      <td>72</td>\n",
       "      <td>Female</td>\n",
       "      <td>Unknown</td>\n",
       "      <td>103229.0</td>\n",
       "      <td>2022-08-30</td>\n",
       "      <td>83.0</td>\n",
       "    </tr>\n",
       "  </tbody>\n",
       "</table>\n",
       "</div>"
      ],
      "text/plain": [
       "  Customer_ID  Age   Gender         City    Income Customer_Since  \\\n",
       "0    CUST1000   68  Unknown     New York   93792.0     2022-02-16   \n",
       "1    CUST1001   43     Male  Los Angeles  138681.0     2022-09-23   \n",
       "2    CUST1002   73     Male      Houston   30858.0     2022-07-30   \n",
       "3    CUST1003   25   Female     New York  138103.0     2022-05-02   \n",
       "4    CUST1004   72   Female      Unknown  103229.0     2022-08-30   \n",
       "\n",
       "   Spending_Score  \n",
       "0            79.0  \n",
       "1            74.0  \n",
       "2            32.0  \n",
       "3            36.0  \n",
       "4            83.0  "
      ]
     },
     "execution_count": 18,
     "metadata": {},
     "output_type": "execute_result"
    }
   ],
   "source": [
    "data.head()"
   ]
  },
  {
   "cell_type": "code",
   "execution_count": 19,
   "id": "0ef92a17-cecb-41a2-96ae-b6235cf4ade1",
   "metadata": {},
   "outputs": [
    {
     "data": {
      "text/html": [
       "<div>\n",
       "<style scoped>\n",
       "    .dataframe tbody tr th:only-of-type {\n",
       "        vertical-align: middle;\n",
       "    }\n",
       "\n",
       "    .dataframe tbody tr th {\n",
       "        vertical-align: top;\n",
       "    }\n",
       "\n",
       "    .dataframe thead th {\n",
       "        text-align: right;\n",
       "    }\n",
       "</style>\n",
       "<table border=\"1\" class=\"dataframe\">\n",
       "  <thead>\n",
       "    <tr style=\"text-align: right;\">\n",
       "      <th></th>\n",
       "      <th>Age</th>\n",
       "      <th>Income</th>\n",
       "      <th>Customer_Since</th>\n",
       "      <th>Spending_Score</th>\n",
       "    </tr>\n",
       "  </thead>\n",
       "  <tbody>\n",
       "    <tr>\n",
       "      <th>count</th>\n",
       "      <td>1500.000000</td>\n",
       "      <td>1500.000000</td>\n",
       "      <td>1500</td>\n",
       "      <td>1500.000000</td>\n",
       "    </tr>\n",
       "    <tr>\n",
       "      <th>mean</th>\n",
       "      <td>53.431333</td>\n",
       "      <td>85030.256000</td>\n",
       "      <td>2022-12-26 05:58:04.800000256</td>\n",
       "      <td>49.821333</td>\n",
       "    </tr>\n",
       "    <tr>\n",
       "      <th>min</th>\n",
       "      <td>-5.000000</td>\n",
       "      <td>20046.000000</td>\n",
       "      <td>2022-01-03 00:00:00</td>\n",
       "      <td>1.000000</td>\n",
       "    </tr>\n",
       "    <tr>\n",
       "      <th>25%</th>\n",
       "      <td>34.000000</td>\n",
       "      <td>55504.000000</td>\n",
       "      <td>2022-06-24 18:00:00</td>\n",
       "      <td>24.000000</td>\n",
       "    </tr>\n",
       "    <tr>\n",
       "      <th>50%</th>\n",
       "      <td>53.000000</td>\n",
       "      <td>84013.000000</td>\n",
       "      <td>2022-12-15 12:00:00</td>\n",
       "      <td>48.000000</td>\n",
       "    </tr>\n",
       "    <tr>\n",
       "      <th>75%</th>\n",
       "      <td>72.000000</td>\n",
       "      <td>115335.000000</td>\n",
       "      <td>2023-06-26 00:00:00</td>\n",
       "      <td>75.000000</td>\n",
       "    </tr>\n",
       "    <tr>\n",
       "      <th>max</th>\n",
       "      <td>150.000000</td>\n",
       "      <td>149942.000000</td>\n",
       "      <td>2023-12-31 00:00:00</td>\n",
       "      <td>100.000000</td>\n",
       "    </tr>\n",
       "    <tr>\n",
       "      <th>std</th>\n",
       "      <td>25.251846</td>\n",
       "      <td>36440.499374</td>\n",
       "      <td>NaN</td>\n",
       "      <td>29.107265</td>\n",
       "    </tr>\n",
       "  </tbody>\n",
       "</table>\n",
       "</div>"
      ],
      "text/plain": [
       "               Age         Income                 Customer_Since  \\\n",
       "count  1500.000000    1500.000000                           1500   \n",
       "mean     53.431333   85030.256000  2022-12-26 05:58:04.800000256   \n",
       "min      -5.000000   20046.000000            2022-01-03 00:00:00   \n",
       "25%      34.000000   55504.000000            2022-06-24 18:00:00   \n",
       "50%      53.000000   84013.000000            2022-12-15 12:00:00   \n",
       "75%      72.000000  115335.000000            2023-06-26 00:00:00   \n",
       "max     150.000000  149942.000000            2023-12-31 00:00:00   \n",
       "std      25.251846   36440.499374                            NaN   \n",
       "\n",
       "       Spending_Score  \n",
       "count     1500.000000  \n",
       "mean        49.821333  \n",
       "min          1.000000  \n",
       "25%         24.000000  \n",
       "50%         48.000000  \n",
       "75%         75.000000  \n",
       "max        100.000000  \n",
       "std         29.107265  "
      ]
     },
     "execution_count": 19,
     "metadata": {},
     "output_type": "execute_result"
    }
   ],
   "source": [
    "data.describe()\n"
   ]
  },
  {
   "cell_type": "code",
   "execution_count": 20,
   "id": "88df9f05-f7cf-4708-b363-60a04d40de56",
   "metadata": {},
   "outputs": [
    {
     "data": {
      "text/plain": [
       "<bound method DataFrame.info of      Customer_ID  Age   Gender         City    Income Customer_Since  \\\n",
       "0       CUST1000   68  Unknown     New York   93792.0     2022-02-16   \n",
       "1       CUST1001   43     Male  Los Angeles  138681.0     2022-09-23   \n",
       "2       CUST1002   73     Male      Houston   30858.0     2022-07-30   \n",
       "3       CUST1003   25   Female     New York  138103.0     2022-05-02   \n",
       "4       CUST1004   72   Female      Unknown  103229.0     2022-08-30   \n",
       "...          ...  ...      ...          ...       ...            ...   \n",
       "1495    CUST2495   78   Female     New York   42001.0     2023-01-25   \n",
       "1496    CUST2496   33   Female      Houston   63038.0     2023-12-29   \n",
       "1497    CUST2497   45    Other      Houston   75659.0     2022-09-23   \n",
       "1498    CUST2498   84     Male      Unknown   66664.0     2023-09-03   \n",
       "1499    CUST2499   -5     Male      Houston   56435.0     2023-05-01   \n",
       "\n",
       "      Spending_Score  \n",
       "0               79.0  \n",
       "1               74.0  \n",
       "2               32.0  \n",
       "3               36.0  \n",
       "4               83.0  \n",
       "...              ...  \n",
       "1495            54.0  \n",
       "1496            77.0  \n",
       "1497            75.0  \n",
       "1498            39.0  \n",
       "1499            56.0  \n",
       "\n",
       "[1500 rows x 7 columns]>"
      ]
     },
     "execution_count": 20,
     "metadata": {},
     "output_type": "execute_result"
    }
   ],
   "source": [
    "data.info"
   ]
  },
  {
   "cell_type": "code",
   "execution_count": 21,
   "id": "72f14188-7285-4142-9315-eac3dc521ec7",
   "metadata": {},
   "outputs": [],
   "source": [
    "data = data[data['Age'] >= 0]"
   ]
  },
  {
   "cell_type": "code",
   "execution_count": 22,
   "id": "52c35e5d-9b9b-4f7d-9794-77aa5be9acfd",
   "metadata": {},
   "outputs": [
    {
     "data": {
      "text/html": [
       "<div>\n",
       "<style scoped>\n",
       "    .dataframe tbody tr th:only-of-type {\n",
       "        vertical-align: middle;\n",
       "    }\n",
       "\n",
       "    .dataframe tbody tr th {\n",
       "        vertical-align: top;\n",
       "    }\n",
       "\n",
       "    .dataframe thead th {\n",
       "        text-align: right;\n",
       "    }\n",
       "</style>\n",
       "<table border=\"1\" class=\"dataframe\">\n",
       "  <thead>\n",
       "    <tr style=\"text-align: right;\">\n",
       "      <th></th>\n",
       "      <th>Age</th>\n",
       "      <th>Income</th>\n",
       "      <th>Customer_Since</th>\n",
       "      <th>Spending_Score</th>\n",
       "    </tr>\n",
       "  </thead>\n",
       "  <tbody>\n",
       "    <tr>\n",
       "      <th>count</th>\n",
       "      <td>1476.000000</td>\n",
       "      <td>1476.000000</td>\n",
       "      <td>1476</td>\n",
       "      <td>1476.000000</td>\n",
       "    </tr>\n",
       "    <tr>\n",
       "      <th>mean</th>\n",
       "      <td>54.381436</td>\n",
       "      <td>84988.474255</td>\n",
       "      <td>2022-12-26 19:13:10.243902464</td>\n",
       "      <td>49.699864</td>\n",
       "    </tr>\n",
       "    <tr>\n",
       "      <th>min</th>\n",
       "      <td>16.000000</td>\n",
       "      <td>20046.000000</td>\n",
       "      <td>2022-01-03 00:00:00</td>\n",
       "      <td>1.000000</td>\n",
       "    </tr>\n",
       "    <tr>\n",
       "      <th>25%</th>\n",
       "      <td>35.000000</td>\n",
       "      <td>55542.500000</td>\n",
       "      <td>2022-06-26 00:00:00</td>\n",
       "      <td>24.000000</td>\n",
       "    </tr>\n",
       "    <tr>\n",
       "      <th>50%</th>\n",
       "      <td>53.000000</td>\n",
       "      <td>84013.000000</td>\n",
       "      <td>2022-12-16 12:00:00</td>\n",
       "      <td>48.000000</td>\n",
       "    </tr>\n",
       "    <tr>\n",
       "      <th>75%</th>\n",
       "      <td>72.000000</td>\n",
       "      <td>115237.000000</td>\n",
       "      <td>2023-06-26 00:00:00</td>\n",
       "      <td>75.000000</td>\n",
       "    </tr>\n",
       "    <tr>\n",
       "      <th>max</th>\n",
       "      <td>150.000000</td>\n",
       "      <td>149942.000000</td>\n",
       "      <td>2023-12-31 00:00:00</td>\n",
       "      <td>100.000000</td>\n",
       "    </tr>\n",
       "    <tr>\n",
       "      <th>std</th>\n",
       "      <td>24.322303</td>\n",
       "      <td>36416.988370</td>\n",
       "      <td>NaN</td>\n",
       "      <td>29.183000</td>\n",
       "    </tr>\n",
       "  </tbody>\n",
       "</table>\n",
       "</div>"
      ],
      "text/plain": [
       "               Age         Income                 Customer_Since  \\\n",
       "count  1476.000000    1476.000000                           1476   \n",
       "mean     54.381436   84988.474255  2022-12-26 19:13:10.243902464   \n",
       "min      16.000000   20046.000000            2022-01-03 00:00:00   \n",
       "25%      35.000000   55542.500000            2022-06-26 00:00:00   \n",
       "50%      53.000000   84013.000000            2022-12-16 12:00:00   \n",
       "75%      72.000000  115237.000000            2023-06-26 00:00:00   \n",
       "max     150.000000  149942.000000            2023-12-31 00:00:00   \n",
       "std      24.322303   36416.988370                            NaN   \n",
       "\n",
       "       Spending_Score  \n",
       "count     1476.000000  \n",
       "mean        49.699864  \n",
       "min          1.000000  \n",
       "25%         24.000000  \n",
       "50%         48.000000  \n",
       "75%         75.000000  \n",
       "max        100.000000  \n",
       "std         29.183000  "
      ]
     },
     "execution_count": 22,
     "metadata": {},
     "output_type": "execute_result"
    }
   ],
   "source": [
    "data.describe()\n"
   ]
  },
  {
   "cell_type": "code",
   "execution_count": null,
   "id": "f53aea5f-68f8-4060-9080-d8e75e6bf75d",
   "metadata": {},
   "outputs": [],
   "source": []
  },
  {
   "cell_type": "code",
   "execution_count": 23,
   "id": "7115c9fb-e220-4eea-a8f1-3a14d711fbfe",
   "metadata": {},
   "outputs": [],
   "source": [
    "data = data[data['City'].str.lower() != 'unknown']"
   ]
  },
  {
   "cell_type": "markdown",
   "id": "dacb4619-a442-4277-9093-afd285b57146",
   "metadata": {},
   "source": [
    "### Summarize the dataset"
   ]
  },
  {
   "cell_type": "markdown",
   "id": "f76ebdee-9c6e-46e1-9cf5-949afbf21f96",
   "metadata": {},
   "source": [
    "### Mean, median, and mode of age "
   ]
  },
  {
   "cell_type": "code",
   "execution_count": 24,
   "id": "448fce9f-25e8-41ad-8a8e-566b7fb9dd23",
   "metadata": {},
   "outputs": [
    {
     "name": "stdout",
     "output_type": "stream",
     "text": [
      "Summary Statistics:\n",
      "\n",
      "Age:\n",
      " Mean: 53.89\n",
      " Median: 53.00\n",
      " Mode: 25.00\n"
     ]
    }
   ],
   "source": [
    "print(\"Summary Statistics:\\n\")\n",
    "\n",
    "# Age\n",
    "print(f\"Age:\\n Mean: {data['Age'].mean():.2f}\")\n",
    "print(f\" Median: {data['Age'].median():.2f}\")\n",
    "print(f\" Mode: {data['Age'].mode()[0]:.2f}\")"
   ]
  },
  {
   "cell_type": "markdown",
   "id": "27f7d276-22e0-4218-87d6-a6de8e75f744",
   "metadata": {},
   "source": [
    "### Mean, median, and mode of age and income"
   ]
  },
  {
   "cell_type": "code",
   "execution_count": 25,
   "id": "a53a7961-7414-4465-8d39-ed2325a11723",
   "metadata": {},
   "outputs": [
    {
     "name": "stdout",
     "output_type": "stream",
     "text": [
      "\n",
      "Income:\n",
      " Mean: 83877.34\n",
      " Median: 84013.00\n",
      " Mode: 84013.00\n"
     ]
    }
   ],
   "source": [
    "# Income\n",
    "print(f\"\\nIncome:\\n Mean: {data['Income'].mean():.2f}\")\n",
    "print(f\" Median: {data['Income'].median():.2f}\")\n",
    "print(f\" Mode: {data['Income'].mode()[0]:.2f}\")\n"
   ]
  },
  {
   "cell_type": "markdown",
   "id": "8c633db1-db27-4663-8f82-f0bbf9ccd7f0",
   "metadata": {},
   "source": [
    "### Distribution of customers by city and gender"
   ]
  },
  {
   "cell_type": "code",
   "execution_count": 26,
   "id": "dd71e00e-6c2d-4599-a24a-ca561b0717d0",
   "metadata": {},
   "outputs": [
    {
     "name": "stdout",
     "output_type": "stream",
     "text": [
      "\n",
      "City distribution:\n",
      " City\n",
      "Los Angeles    442\n",
      "New York       421\n",
      "Houston        416\n",
      "Name: count, dtype: int64\n",
      "\n",
      "Gender distribution:\n",
      " Gender\n",
      "Female     527\n",
      "Male       375\n",
      "Other      191\n",
      "Unknown    186\n",
      "Name: count, dtype: int64\n"
     ]
    }
   ],
   "source": [
    "city_distribution = data['City'].value_counts()\n",
    "gender_distribution = data['Gender'].value_counts()\n",
    "print(\"\\nCity distribution:\\n\", city_distribution)\n",
    "print(\"\\nGender distribution:\\n\", gender_distribution)"
   ]
  },
  {
   "cell_type": "markdown",
   "id": "2ed6b4a7-1cb8-479c-bf12-a5b9ccb82ee7",
   "metadata": {},
   "source": [
    "###  Age groups vs Income"
   ]
  },
  {
   "cell_type": "code",
   "execution_count": 27,
   "id": "374ac1d9-f11a-466b-8ad8-68e733a27209",
   "metadata": {},
   "outputs": [
    {
     "name": "stdout",
     "output_type": "stream",
     "text": [
      "\n",
      "Average Income by Age Group:\n",
      " Age_Group\n",
      "0-20     85430.012987\n",
      "21-40    84412.305949\n",
      "41-60    81333.666667\n",
      "60+      85134.384306\n",
      "Name: Income, dtype: float64\n"
     ]
    }
   ],
   "source": [
    "data['Age_Group'] = pd.cut(data['Age'], bins=[0, 20, 40, 60, 100], labels=['0-20','21-40','41-60','60+'])\n",
    "age_income_group = data.groupby('Age_Group', observed=False)['Income'].mean()\n",
    "print(\"\\nAverage Income by Age Group:\\n\", age_income_group)\n"
   ]
  },
  {
   "cell_type": "code",
   "execution_count": 28,
   "id": "0dbc188e-17ed-41af-9158-39e45cda0182",
   "metadata": {},
   "outputs": [
    {
     "data": {
      "image/png": "[encoded data removed]",
      "text/plain": [
       "<Figure size 640x480 with 1 Axes>"
      ]
     },
     "metadata": {},
     "output_type": "display_data"
    }
   ],
   "source": [
    "age_income_group.plot(kind='bar', color='darkgreen', edgecolor='black')\n",
    "plt.title('Average Income by Age Group')\n",
    "plt.xlabel('Age Group')\n",
    "plt.ylabel('Average Income')\n",
    "plt.show()"
   ]
  },
  {
   "cell_type": "code",
   "execution_count": 29,
   "id": "52932726-9962-4dd8-9104-6758d9aac3e7",
   "metadata": {},
   "outputs": [
    {
     "data": {
      "text/html": [
       "<div>\n",
       "<style scoped>\n",
       "    .dataframe tbody tr th:only-of-type {\n",
       "        vertical-align: middle;\n",
       "    }\n",
       "\n",
       "    .dataframe tbody tr th {\n",
       "        vertical-align: top;\n",
       "    }\n",
       "\n",
       "    .dataframe thead th {\n",
       "        text-align: right;\n",
       "    }\n",
       "</style>\n",
       "<table border=\"1\" class=\"dataframe\">\n",
       "  <thead>\n",
       "    <tr style=\"text-align: right;\">\n",
       "      <th></th>\n",
       "      <th>Customer_ID</th>\n",
       "      <th>Age</th>\n",
       "      <th>Gender</th>\n",
       "      <th>City</th>\n",
       "      <th>Income</th>\n",
       "      <th>Customer_Since</th>\n",
       "      <th>Spending_Score</th>\n",
       "      <th>Age_Group</th>\n",
       "    </tr>\n",
       "  </thead>\n",
       "  <tbody>\n",
       "    <tr>\n",
       "      <th>0</th>\n",
       "      <td>CUST1000</td>\n",
       "      <td>68</td>\n",
       "      <td>Unknown</td>\n",
       "      <td>New York</td>\n",
       "      <td>93792.0</td>\n",
       "      <td>2022-02-16</td>\n",
       "      <td>79.0</td>\n",
       "      <td>60+</td>\n",
       "    </tr>\n",
       "    <tr>\n",
       "      <th>1</th>\n",
       "      <td>CUST1001</td>\n",
       "      <td>43</td>\n",
       "      <td>Male</td>\n",
       "      <td>Los Angeles</td>\n",
       "      <td>138681.0</td>\n",
       "      <td>2022-09-23</td>\n",
       "      <td>74.0</td>\n",
       "      <td>41-60</td>\n",
       "    </tr>\n",
       "    <tr>\n",
       "      <th>2</th>\n",
       "      <td>CUST1002</td>\n",
       "      <td>73</td>\n",
       "      <td>Male</td>\n",
       "      <td>Houston</td>\n",
       "      <td>30858.0</td>\n",
       "      <td>2022-07-30</td>\n",
       "      <td>32.0</td>\n",
       "      <td>60+</td>\n",
       "    </tr>\n",
       "    <tr>\n",
       "      <th>3</th>\n",
       "      <td>CUST1003</td>\n",
       "      <td>25</td>\n",
       "      <td>Female</td>\n",
       "      <td>New York</td>\n",
       "      <td>138103.0</td>\n",
       "      <td>2022-05-02</td>\n",
       "      <td>36.0</td>\n",
       "      <td>21-40</td>\n",
       "    </tr>\n",
       "    <tr>\n",
       "      <th>5</th>\n",
       "      <td>CUST1005</td>\n",
       "      <td>83</td>\n",
       "      <td>Female</td>\n",
       "      <td>New York</td>\n",
       "      <td>84013.0</td>\n",
       "      <td>2022-12-22</td>\n",
       "      <td>35.0</td>\n",
       "      <td>60+</td>\n",
       "    </tr>\n",
       "  </tbody>\n",
       "</table>\n",
       "</div>"
      ],
      "text/plain": [
       "  Customer_ID  Age   Gender         City    Income Customer_Since  \\\n",
       "0    CUST1000   68  Unknown     New York   93792.0     2022-02-16   \n",
       "1    CUST1001   43     Male  Los Angeles  138681.0     2022-09-23   \n",
       "2    CUST1002   73     Male      Houston   30858.0     2022-07-30   \n",
       "3    CUST1003   25   Female     New York  138103.0     2022-05-02   \n",
       "5    CUST1005   83   Female     New York   84013.0     2022-12-22   \n",
       "\n",
       "   Spending_Score Age_Group  \n",
       "0            79.0       60+  \n",
       "1            74.0     41-60  \n",
       "2            32.0       60+  \n",
       "3            36.0     21-40  \n",
       "5            35.0       60+  "
      ]
     },
     "execution_count": 29,
     "metadata": {},
     "output_type": "execute_result"
    }
   ],
   "source": [
    "data.head()"
   ]
  },
  {
   "cell_type": "markdown",
   "id": "a7533ff6-86ba-4b37-8398-976136dcb7a3",
   "metadata": {},
   "source": [
    "### Gender vs average income"
   ]
  },
  {
   "cell_type": "code",
   "execution_count": 30,
   "id": "b6817b87-793d-4b02-905e-ea949e9d128d",
   "metadata": {},
   "outputs": [
    {
     "name": "stdout",
     "output_type": "stream",
     "text": [
      "\n",
      "Average Income by Gender:\n",
      " Gender\n",
      "Female     83593.423150\n",
      "Male       84230.461333\n",
      "Other      85086.068063\n",
      "Unknown    82728.639785\n",
      "Name: Income, dtype: float64\n"
     ]
    }
   ],
   "source": [
    "gender_income = data.groupby('Gender')['Income'].mean()\n",
    "print(\"\\nAverage Income by Gender:\\n\", gender_income)"
   ]
  },
  {
   "cell_type": "code",
   "execution_count": 31,
   "id": "b49808df-3f3b-456a-8e2b-a0b884867283",
   "metadata": {},
   "outputs": [
    {
     "data": {
      "image/png": "[encoded data removed]",
      "text/plain": [
       "<Figure size 640x480 with 1 Axes>"
      ]
     },
     "metadata": {},
     "output_type": "display_data"
    }
   ],
   "source": [
    "gender_income.plot(kind='bar', color='orange', edgecolor='black')\n",
    "plt.title('Average Income by Gender')\n",
    "plt.xlabel('Gender')\n",
    "plt.ylabel('Average Income')\n",
    "plt.show()"
   ]
  },
  {
   "cell_type": "markdown",
   "id": "a7bba12f-7916-40e4-bd44-8ec0c7d2be0f",
   "metadata": {},
   "source": [
    "### --Some rows had missing dates \n",
    "### --had \"Unknown\" cities and invalid ages\n",
    "### --Dates were in multiple formats \n"
   ]
  },
  {
   "cell_type": "code",
   "execution_count": null,
   "id": "ef59caf9-4a45-4c6e-b914-504e926d00dd",
   "metadata": {},
   "outputs": [],
   "source": []
  }
 ],
 "metadata": {
  "kernelspec": {
   "display_name": "Python 3 (ipykernel)",
   "language": "python",
   "name": "python3"
  },
  "language_info": {
   "codemirror_mode": {
    "name": "ipython",
    "version": 3
   },
   "file_extension": ".py",
   "mimetype": "text/x-python",
   "name": "python",
   "nbconvert_exporter": "python",
   "pygments_lexer": "ipython3",
   "version": "3.13.2"
  }
 },
 "nbformat": 4,
 "nbformat_minor": 5
}
